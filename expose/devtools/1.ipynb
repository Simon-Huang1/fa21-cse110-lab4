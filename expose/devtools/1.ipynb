{
 "cells": [
  {
   "cell_type": "code",
   "execution_count": null,
   "source": [],
   "outputs": [],
   "metadata": {}
  },
  {
   "cell_type": "markdown",
   "source": [
    "## Expose devtools\n",
    "1. What is the name of the new json file? <br>\n",
    "   The name of the new json file is **citylots.json** <br>\n",
    "\n",
    "2. Which file initiated the download of the new file? <br>\n",
    "   The file initiated the download is **expose.js**. <br>\n",
    "\n",
    "3. What is its file size? <br>\n",
    "   The file size is **760.33KB**. <br>\n",
    "\n",
    "4. How long did it take to download? <br>\n",
    "   It take **249ms** to download <br>\n",
    "\n",
    "5. What was your User-Agent for the browser that made the request?<br>\n",
    "   User-Agent \"Mozilla/5.0 (Macintosh; Intel Mac OS X 10_15_7) AppleWebKit/605.1.15 (KHTML, like Gecko) Version/13.1.3 Safari/605.1.15\" is used to made the request<br>\n",
    "\n",
    "6. In the response, what type of server did it come from?<br>\n",
    "\n",
    "7. When was the file last modified?<br>\n",
    "\n",
    "8. What was the Content-Type of the file?<br>\n",
    "\n",
    "Navigate to the Initiator tab now and answer the last question<br>\n",
    "\n",
    "9. Which method inside the initiating file made the request?<br>\n"
   ],
   "metadata": {}
  }
 ],
 "metadata": {
  "orig_nbformat": 4,
  "language_info": {
   "name": "python"
  }
 },
 "nbformat": 4,
 "nbformat_minor": 2
}